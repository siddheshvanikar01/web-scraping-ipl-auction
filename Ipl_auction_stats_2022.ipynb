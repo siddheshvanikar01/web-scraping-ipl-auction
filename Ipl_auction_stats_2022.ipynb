{
 "cells": [
  {
   "cell_type": "code",
   "execution_count": 90,
   "id": "02c799e1-391e-44cd-af88-6918f77d58a9",
   "metadata": {},
   "outputs": [],
   "source": [
    "import requests\n",
    "from bs4 import BeautifulSoup\n",
    "import pandas as pd\n",
    "\n",
    "url = \"https://www.iplt20.com/auction/2022\"  \n",
    "# Sends a GET request to fetch the webpage content\n",
    "r = requests.get(url)\n",
    "\n",
    "# Parses the HTML content with the lxml parser\n",
    "soup = BeautifulSoup(r.text, \"lxml\")\n",
    "\n",
    "# Finds the auction table based on its class name in the HTML structure\n",
    "table = soup.find(\"table\", class_=\"ih-td-tab auction-tbl\")\n",
    "\n",
    "# Outputs the table or None if not found\n",
    "# print(table)\n"
   ]
  },
  {
   "cell_type": "code",
   "execution_count": 97,
   "id": "3f4edf00-d60b-47d4-84c8-576af883ea63",
   "metadata": {},
   "outputs": [
    {
     "name": "stdout",
     "output_type": "stream",
     "text": [
      "['TEAM', 'FUNDS REMAINING', 'OVERSEAS PLAYERS ', 'TOTAL PLAYERS']\n",
      "Empty DataFrame\n",
      "Columns: [TEAM, FUNDS REMAINING, OVERSEAS PLAYERS , TOTAL PLAYERS]\n",
      "Index: []\n"
     ]
    }
   ],
   "source": [
    "# Finds all the table header ('th') elements from the table\n",
    "header = table.find_all(\"th\")\n",
    "\n",
    "# Creates an empty list to store the column titles\n",
    "titles = []\n",
    "\n",
    "# Loops through each header element to extract the text (column name)\n",
    "for i in header:\n",
    "    title = i.text  # Extracts the text from the 'th' element\n",
    "    titles.append(title)  # Adds the extracted title to the titles list\n",
    "\n",
    "# Prints the list of extracted column titles\n",
    "print(titles)\n",
    "\n",
    "# Creates a DataFrame with the extracted column titles\n",
    "df = pd.DataFrame(columns=titles)\n",
    "\n",
    "# Prints the empty DataFrame with column titles\n",
    "print(df)\n"
   ]
  },
  {
   "cell_type": "code",
   "execution_count": 99,
   "id": "082245f8-1438-441c-83bd-03fe56b12c66",
   "metadata": {},
   "outputs": [
    {
     "name": "stdout",
     "output_type": "stream",
     "text": [
      "                          TEAM FUNDS REMAINING OVERSEAS PLAYERS  TOTAL PLAYERS\n",
      "0          Chennai Super Kings    ₹2,95,00,000                 8            25\n",
      "1               Delhi Capitals      ₹10,00,000                 7            24\n",
      "2               Gujarat Titans      ₹15,00,000                 8            23\n",
      "3        Kolkata Knight Riders      ₹45,00,000                 8            25\n",
      "4         Lucknow Super Giants              ₹0                 7            21\n",
      "5               Mumbai Indians      ₹10,00,000                 8            25\n",
      "6                 Punjab Kings    ₹3,45,00,000                 7            25\n",
      "7             Rajasthan Royals      ₹95,00,000                 8            24\n",
      "8  Royal Challengers Bangalore    ₹1,55,00,000                 8            22\n",
      "9          Sunrisers Hyderabad      ₹10,00,000                 8            23\n"
     ]
    }
   ],
   "source": [
    "# Find all the rows in the table and store them in 'rows'\n",
    "rows = table.find_all(\"tr\")\n",
    "\n",
    "# Loop through each row starting from the second row (ignores the header row)\n",
    "for i in rows[1:]:\n",
    "    # Extract the first cell which contains a div with class \"ih-pt-ic\" and strip any extra spaces\n",
    "    first_td = i.find_all(\"td\")[0].find(\"div\", class_=\"ih-pt-ic\").text.strip()\n",
    "    \n",
    "    # Extract all other cells (excluding the first one)\n",
    "    data = i.find_all(\"td\")[1:]\n",
    "    \n",
    "    # Extract the text content from each cell in 'data'\n",
    "    row = [tr.text for tr in data]\n",
    "    \n",
    "    # Insert the first cell's text (stored in 'first_td') at the beginning of 'row'\n",
    "    row.insert(0, first_td)\n",
    "    \n",
    "    # Find the current length of the dataframe to determine the next row index\n",
    "    l = len(df)\n",
    "    \n",
    "    # Append the 'row' data as a new row to the dataframe\n",
    "    df.loc[l] = row\n",
    "\n",
    "# Print the dataframe\n",
    "print(df)\n"
   ]
  },
  {
   "cell_type": "code",
   "execution_count": 103,
   "id": "443527c2-e132-4b5a-b953-8b84fe0513b7",
   "metadata": {},
   "outputs": [],
   "source": [
    "df.to_csv(\"Ipl_auction_stats_2022_01.csv\")"
   ]
  }
 ],
 "metadata": {
  "kernelspec": {
   "display_name": "Python 3 (ipykernel)",
   "language": "python",
   "name": "python3"
  },
  "language_info": {
   "codemirror_mode": {
    "name": "ipython",
    "version": 3
   },
   "file_extension": ".py",
   "mimetype": "text/x-python",
   "name": "python",
   "nbconvert_exporter": "python",
   "pygments_lexer": "ipython3",
   "version": "3.12.4"
  }
 },
 "nbformat": 4,
 "nbformat_minor": 5
}
